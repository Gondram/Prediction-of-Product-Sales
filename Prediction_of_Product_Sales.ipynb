{
  "nbformat": 4,
  "nbformat_minor": 0,
  "metadata": {
    "colab": {
      "provenance": [],
      "authorship_tag": "ABX9TyOz0WffC0weiabwLn60rnB8",
      "include_colab_link": true
    },
    "kernelspec": {
      "name": "python3",
      "display_name": "Python 3"
    },
    "language_info": {
      "name": "python"
    }
  },
  "cells": [
    {
      "cell_type": "markdown",
      "metadata": {
        "id": "view-in-github",
        "colab_type": "text"
      },
      "source": [
        "<a href=\"https://colab.research.google.com/github/Gondram/Prediction-of-Product-Sales/blob/main/Prediction_of_Product_Sales.ipynb\" target=\"_parent\"><img src=\"https://colab.research.google.com/assets/colab-badge.svg\" alt=\"Open In Colab\"/></a>"
      ]
    },
    {
      "cell_type": "markdown",
      "source": [
        "# Prediction of Product Sales\n",
        "- David Atkins"
      ],
      "metadata": {
        "id": "EGcdXRRNs4pS"
      }
    },
    {
      "cell_type": "markdown",
      "source": [
        "## Project Overview"
      ],
      "metadata": {
        "id": "LR4mFnb4tNll"
      }
    },
    {
      "cell_type": "code",
      "source": [],
      "metadata": {
        "id": "2hhJkyLktj0Y"
      },
      "execution_count": null,
      "outputs": []
    },
    {
      "cell_type": "markdown",
      "source": [
        "## Load and Inspect Data"
      ],
      "metadata": {
        "id": "VMRCpehFtPEA"
      }
    },
    {
      "cell_type": "code",
      "source": [],
      "metadata": {
        "id": "GIlmmyBOtkh6"
      },
      "execution_count": null,
      "outputs": []
    },
    {
      "cell_type": "markdown",
      "source": [
        "## Clean Data"
      ],
      "metadata": {
        "id": "e_BIArY9tQ_s"
      }
    },
    {
      "cell_type": "code",
      "source": [],
      "metadata": {
        "id": "r6L9P_LUtlD_"
      },
      "execution_count": null,
      "outputs": []
    },
    {
      "cell_type": "markdown",
      "source": [
        "## Exploratory Data Analysis\n"
      ],
      "metadata": {
        "id": "5mPJP0eUtSwL"
      }
    },
    {
      "cell_type": "code",
      "source": [],
      "metadata": {
        "id": "UR_wKCxRtlmR"
      },
      "execution_count": null,
      "outputs": []
    },
    {
      "cell_type": "markdown",
      "source": [
        "## Feature Inspection"
      ],
      "metadata": {
        "id": "uhjWytM-taLM"
      }
    },
    {
      "cell_type": "code",
      "source": [],
      "metadata": {
        "id": "kSndSHZytmMY"
      },
      "execution_count": null,
      "outputs": []
    }
  ]
}